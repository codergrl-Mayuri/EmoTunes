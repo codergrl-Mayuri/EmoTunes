{
 "cells": [
  {
   "cell_type": "code",
   "execution_count": 2,
   "metadata": {},
   "outputs": [],
   "source": [
    "import os\n",
    "import cv2\n",
    "import numpy as np\n",
    "import tensorflow as tf\n",
    "from sklearn.model_selection import train_test_split\n",
    "from tensorflow.keras.preprocessing.image import ImageDataGenerator\n",
    "from tensorflow.keras import layers, models, regularizers\n",
    "from tensorflow.keras.models import save_model\n",
    "from matplotlib import pyplot as plt"
   ]
  },
  {
   "cell_type": "code",
   "execution_count": 3,
   "metadata": {},
   "outputs": [
    {
     "name": "stdout",
     "output_type": "stream",
     "text": [
      "\n",
      "Devices:  [PhysicalDevice(name='/physical_device:CPU:0', device_type='CPU'), PhysicalDevice(name='/physical_device:GPU:0', device_type='GPU')]\n",
      "GPU details:  {'device_name': 'METAL'}\n"
     ]
    }
   ],
   "source": [
    "devices = tf.config.list_physical_devices()\n",
    "print(\"\\nDevices: \", devices)\n",
    "\n",
    "gpus = tf.config.list_physical_devices('GPU')\n",
    "if gpus:\n",
    "  details = tf.config.experimental.get_device_details(gpus[0])\n",
    "  print(\"GPU details: \", details)"
   ]
  },
  {
   "cell_type": "code",
   "execution_count": 4,
   "metadata": {},
   "outputs": [],
   "source": [
    "import pandas as pd\n"
   ]
  },
  {
   "cell_type": "code",
   "execution_count": 6,
   "metadata": {},
   "outputs": [],
   "source": [
    "path = \"/Users/seemanthrajukurapati/Documents/ml projects/music_recommendation/datasets/netfix_cleaned.csv\"\n",
    "model_path = \"/Users/seemanthrajukurapati/Documents/ml projects/music_recommendation/models/emotion_detection_model.h5\"\n",
    "img_path = \"/Users/seemanthrajukurapati/Documents/ml projects/music_recommendation/test.jpg\""
   ]
  },
  {
   "cell_type": "code",
   "execution_count": 8,
   "metadata": {},
   "outputs": [
    {
     "name": "stdout",
     "output_type": "stream",
     "text": [
      "Metal device set to: Apple M2\n",
      "\n",
      "systemMemory: 8.00 GB\n",
      "maxCacheSize: 2.67 GB\n",
      "\n"
     ]
    }
   ],
   "source": [
    "from tensorflow.keras.models import load_model\n",
    "model = load_model(model_path)"
   ]
  },
  {
   "cell_type": "code",
   "execution_count": 9,
   "metadata": {},
   "outputs": [
    {
     "name": "stdout",
     "output_type": "stream",
     "text": [
      "1/1 [==============================] - 0s 187ms/step\n",
      "Predicted class: neutral\n"
     ]
    },
    {
     "name": "stderr",
     "output_type": "stream",
     "text": [
      "2024-04-30 16:04:09.681292: W tensorflow/tsl/platform/profile_utils/cpu_utils.cc:128] Failed to get CPU frequency: 0 Hz\n"
     ]
    }
   ],
   "source": [
    "from tensorflow.keras.preprocessing import image\n",
    "import numpy as np\n",
    "\n",
    "# Load the image from file\n",
    "\n",
    "img = image.load_img(img_path, target_size=(256, 256))  # Adjust the target size as needed\n",
    "\n",
    "# Convert the image to a numpy array\n",
    "img_array = image.img_to_array(img)\n",
    "img_array = np.expand_dims(img_array, axis=0)  # Add batch dimension\n",
    "\n",
    "# Preprocess the image (if needed)\n",
    "# Example:\n",
    "# img_array /= 255.0\n",
    "\n",
    "\n",
    "# Make predictions\n",
    "predictions = model.predict(img_array)\n",
    "\n",
    "# Get the predicted class index\n",
    "predicted_class_index = np.argmax(predictions)\n",
    "\n",
    "# Map class index to class name\n",
    "emotions = ['angry', 'disgust', 'fear', 'happy', 'neutral',  'sad', 'surprise']\n",
    "class_index_to_name = {i: class_name for i, class_name in enumerate(emotions)}\n",
    "\n",
    "# Get the predicted class name\n",
    "predicted_class_name = class_index_to_name[predicted_class_index]\n",
    "\n",
    "print(\"Predicted class:\", predicted_class_name)\n"
   ]
  },
  {
   "cell_type": "code",
   "execution_count": 4,
   "metadata": {},
   "outputs": [
    {
     "name": "stdout",
     "output_type": "stream",
     "text": [
      "Column Names:\n",
      "names\n",
      "release_year\n",
      "maturity_rating\n",
      "duration\n",
      "description\n",
      "genre\n",
      "mood\n",
      "cast\n",
      "subtitles\n",
      "audio\n"
     ]
    }
   ],
   "source": [
    "movie_data = pd.read_csv(path)\n",
    "\n",
    "# Get all column names\n",
    "column_names = movie_data.columns\n",
    "\n",
    "# Print all column names\n",
    "print(\"Column Names:\")\n",
    "for column_name in column_names:\n",
    "    print(column_name)"
   ]
  },
  {
   "cell_type": "code",
   "execution_count": 5,
   "metadata": {},
   "outputs": [
    {
     "name": "stdout",
     "output_type": "stream",
     "text": [
      "Quirky\n",
      "Swoonworthy\n",
      "Romantic\n",
      "Offbeat\n",
      "Sentimental\n",
      "Adrenaline Rush\n",
      "Heartfelt\n",
      "Understated\n",
      "Provocative\n",
      "Feel-Good\n",
      "Intimate\n",
      "Scary\n",
      "Emotional\n",
      "Gritty\n",
      "Mind-Bending\n",
      "Violent\n",
      "Exciting\n",
      "Charming\n",
      "Steamy\n",
      "Suspenseful\n",
      "Goofy\n",
      "Chilling\n",
      "Witty\n",
      "Bittersweet\n",
      "Dark\n",
      "Raunchy\n",
      "Inspiring\n",
      "Ominous\n",
      "Total unique values: 28\n"
     ]
    }
   ],
   "source": [
    "import pandas as pd\n",
    "import numpy as np  # Import numpy for NaN handling\n",
    "\n",
    "def print_unique_values(column_name, path):\n",
    "    data = pd.read_csv(path)\n",
    "    unique_values = data[column_name].unique()\n",
    "    unique_values = [str(value).strip() for value in unique_values if not pd.isnull(value)]  # Remove leading/trailing whitespaces\n",
    "    unique_values = set(unique_values)\n",
    "    i = 0\n",
    "    for value in unique_values:\n",
    "        print(value)\n",
    "        i += 1\n",
    "    print(\"Total unique values:\", i)\n",
    "\n",
    "print_unique_values(\"mood\", path)  # Change \"your_data.csv\" to the path of your CSV file\n",
    "\n"
   ]
  },
  {
   "cell_type": "code",
   "execution_count": 11,
   "metadata": {},
   "outputs": [],
   "source": [
    "import pandas as pd\n",
    "\n",
    "def remove_trailing_comma(df, column_name):\n",
    "    df[column_name] = df[column_name].str.rstrip(',')  # Remove trailing comma from each value in the specified column\n",
    "    return df\n",
    "\n",
    "def update_dataset(path):\n",
    "    data = pd.read_csv(path)\n",
    "    updated_data = remove_trailing_comma(data, 'mood')\n",
    "    updated_data.to_csv(path, index=False)  # Save the updated DataFrame back to the CSV file\n",
    "\n",
    "update_dataset(path)  # Change \"your_data.csv\" to the path of your CSV file\n"
   ]
  },
  {
   "cell_type": "code",
   "execution_count": 6,
   "metadata": {},
   "outputs": [
    {
     "name": "stdout",
     "output_type": "stream",
     "text": [
      "Unique Moods: ['Quirky', 'Swoonworthy', 'Romantic', 'Offbeat', 'Sentimental', 'Adrenaline Rush', 'Heartfelt', 'Understated', 'Provocative', 'Feel-Good', 'Intimate', 'Scary', 'Emotional', 'Gritty', 'Mind-Bending', 'Violent', 'Exciting', 'Charming', 'Steamy', 'Suspenseful', 'Goofy', 'Chilling', 'Witty', 'Bittersweet', 'Dark', 'Raunchy', 'Inspiring', 'Ominous']\n"
     ]
    }
   ],
   "source": [
    "import pandas as pd\n",
    "\n",
    "def get_unique_values(column_name, path):\n",
    "    data = pd.read_csv(path)\n",
    "    unique_values = data[column_name].unique()\n",
    "    unique_values = [str(value).strip() for value in unique_values if pd.notnull(value)]  # Remove leading/trailing whitespaces and handle NaN\n",
    "    unique_values = list(set(unique_values))\n",
    "    return unique_values\n",
    "\n",
    "unique_moods = get_unique_values(\"mood\", path)\n",
    "print(\"Unique Moods:\", unique_moods)\n"
   ]
  },
  {
   "cell_type": "code",
   "execution_count": 8,
   "metadata": {},
   "outputs": [],
   "source": [
    "emotion_to_mood = {\n",
    "    'angry': ['Dark', 'Violent', 'Gritty'],\n",
    "    'disgust': ['Disgust', 'Chilling', 'Gritty'],\n",
    "    'fear': ['Scary', 'Suspenseful', 'Dark', 'Chilling'],\n",
    "    'happy': ['Feel-Good', 'Romantic', 'Charming', 'Quirky'],\n",
    "    'neutral': ['Neutral', 'Understated', 'Offbeat'],\n",
    "    'sad': ['Sad', 'Bittersweet', 'Sentimental', 'Emotional'],\n",
    "    'surprise': ['Exciting', 'Mind-Bending', 'Suspenseful', 'Gritty']\n",
    "}"
   ]
  },
  {
   "cell_type": "code",
   "execution_count": 9,
   "metadata": {},
   "outputs": [
    {
     "name": "stdout",
     "output_type": "stream",
     "text": [
      "The unique mood for happy is: Feel-Good\n"
     ]
    }
   ],
   "source": [
    "def find_unique_mood(emotion, mapping):\n",
    "    if emotion.lower() not in mapping:\n",
    "        return \"Unknown emotion\"\n",
    "    return mapping[emotion.lower()][0]\n",
    "\n",
    "# Test the function\n",
    "emotion = 'happy'\n",
    "unique_mood = find_unique_mood(emotion, emotion_to_mood)\n",
    "print(f\"The unique mood for {emotion} is: {unique_mood}\")"
   ]
  },
  {
   "cell_type": "code",
   "execution_count": 10,
   "metadata": {},
   "outputs": [],
   "source": [
    "movie_path = \"/Users/seemanthrajukurapati/Documents/ml projects/music_recommendation/datasets/netfix_cleaned.csv\"\n",
    "movie_data = pd.read_csv(movie_path)"
   ]
  },
  {
   "cell_type": "code",
   "execution_count": 12,
   "metadata": {},
   "outputs": [],
   "source": [
    "def recommend_movie(user_mood):\n",
    "   \n",
    "        user_mood = emotion_to_mood[user_mood]\n",
    "        recommended_movie = movie_data[movie_data['mood'] == user_mood]\n",
    "        recommended_movie = recommended_movie.sort_values(by='popularity', ascending=False).head(15)\n",
    "        \n",
    "        # Convert DataFrame to a list of dictionaries\n",
    "        recommended_music_list = []\n",
    "        \n",
    "        \n",
    "        return recommended_music_list\n",
    "   "
   ]
  },
  {
   "cell_type": "code",
   "execution_count": 18,
   "metadata": {},
   "outputs": [
    {
     "name": "stdout",
     "output_type": "stream",
     "text": [
      "Recommended movies for 'Romantic':\n",
      "                names duration                                                                                                                                             description  release_year\n",
      "      Indoo Ki Jawani   1h 54m A spirited but naive young woman seeks a one-night stand, but after discovering her date’s real identity, things quickly go from casual to complicated.          2020\n",
      "Jack the Giant Slayer   1h 54m  After he accidentally opens a gateway that allows giants to enter the kingdom, farm boy Jack seeks to undo the damage and rescue a kidnapped princess.          2013\n",
      "         Jodhaa Akbar   3h 33m   In 16th-century India, what begins as a strategic alliance between a Mughal emperor and a Hindu princess becomes a genuine opportunity for true love.          2008\n",
      "         Jodhaa Akbar   3h 33m   In 16th-century India, what begins as a strategic alliance between a Mughal emperor and a Hindu princess becomes a genuine opportunity for true love.          2008\n"
     ]
    }
   ],
   "source": [
    "import pandas as pd\n",
    "\n",
    "# Assuming you have loaded your dataset into a DataFrame called `movie_data`\n",
    "\n",
    "def recommend_movies_by_mood(mood, movie_data):\n",
    "    # Filter movies based on mood\n",
    "    mood_filtered_movies = movie_data[movie_data['mood'].str.lower() == mood.lower()]\n",
    "    \n",
    "    # Sort movies by release year (you can modify the sorting criteria as per your preference)\n",
    "    mood_filtered_movies = mood_filtered_movies.sort_values(by='release_year', ascending=False)\n",
    "    \n",
    "    # Select specific columns for recommendation\n",
    "    recommended_movies = mood_filtered_movies[['names', 'duration', 'description', 'release_year']]\n",
    "    \n",
    "    return recommended_movies.head(5)\n",
    "\n",
    "# Example usage:\n",
    "mood = 'Romantic'  # Change this to any mood you want to recommend movies for\n",
    "recommended_movies = recommend_movies_by_mood(mood, movie_data)\n",
    "\n",
    "print(f\"Recommended movies for '{mood}':\")\n",
    "print(recommended_movies.to_string(index=False))\n"
   ]
  },
  {
   "cell_type": "code",
   "execution_count": 19,
   "metadata": {},
   "outputs": [
    {
     "name": "stdout",
     "output_type": "stream",
     "text": [
      "Recommended movies for 'Romantic':\n",
      "[{'names': 'Indoo Ki Jawani', 'duration': '1h 54m', 'description': 'A spirited but naive young woman seeks a one-night stand, but after discovering her date’s real identity, things quickly go from casual to complicated.', 'release_year': 2020}, {'names': 'Jack the Giant Slayer', 'duration': '1h 54m', 'description': 'After he accidentally opens a gateway that allows giants to enter the kingdom, farm boy Jack seeks to undo the damage and rescue a kidnapped princess.', 'release_year': 2013}, {'names': 'Jodhaa Akbar', 'duration': '3h 33m', 'description': 'In 16th-century India, what begins as a strategic alliance between a Mughal emperor and a Hindu princess becomes a genuine opportunity for true love.', 'release_year': 2008}, {'names': 'Jodhaa Akbar', 'duration': '3h 33m', 'description': 'In 16th-century India, what begins as a strategic alliance between a Mughal emperor and a Hindu princess becomes a genuine opportunity for true love.', 'release_year': 2008}]\n"
     ]
    }
   ],
   "source": [
    "def recommend_movies_by_mood(mood, movie_data):\n",
    "    # Filter movies based on mood\n",
    "    mood_filtered_movies = movie_data[movie_data['mood'].str.lower() == mood.lower()]\n",
    "    \n",
    "    # Sort movies by release year (you can modify the sorting criteria as per your preference)\n",
    "    mood_filtered_movies = mood_filtered_movies.sort_values(by='release_year', ascending=False)\n",
    "    \n",
    "    # Select specific columns for recommendation\n",
    "    recommended_movies = mood_filtered_movies[['names', 'duration', 'description', 'release_year']]\n",
    "    \n",
    "    # Convert DataFrame to list of dictionaries\n",
    "    recommended_movies_list = recommended_movies.to_dict(orient='records')\n",
    "    \n",
    "    return recommended_movies_list[:5]  # Return only the first 5 recommended movies\n",
    "\n",
    "# Example usage:\n",
    "mood = 'Romantic'  # Change this to any mood you want to recommend movies for\n",
    "recommended_movies = recommend_movies_by_mood(mood, movie_data)\n",
    "\n",
    "print(f\"Recommended movies for '{mood}':\")\n",
    "print(recommended_movies)"
   ]
  },
  {
   "cell_type": "code",
   "execution_count": 28,
   "metadata": {},
   "outputs": [],
   "source": [
    "limited_emotions_to_moods = {\n",
    "    'angry': ['Dark', 'Violent', 'Gritty'],\n",
    "    'disgust': ['Disgust', 'Chilling', 'Gritty'],\n",
    "    'fear': ['Scary', 'Suspenseful', 'Dark', 'Chilling'],\n",
    "    'happy': ['Feel-Good', 'Romantic', 'Charming', 'Quirky'],\n",
    "    'neutral': ['Neutral', 'Understated', 'Offbeat'],\n",
    "    'sad': ['Sad', 'Bittersweet', 'Sentimental', 'Emotional'],\n",
    "    'surprise': ['Exciting', 'Mind-Bending', 'Suspenseful', 'Gritty']\n",
    "}\n"
   ]
  },
  {
   "cell_type": "code",
   "execution_count": 29,
   "metadata": {},
   "outputs": [
    {
     "name": "stdout",
     "output_type": "stream",
     "text": [
      "['Feel-Good', 'Romantic', 'Charming', 'Quirky']\n"
     ]
    }
   ],
   "source": [
    "moods_for_emotion = limited_emotions_to_moods.get(emotion.lower(), [])\n",
    "print(moods_for_emotion)"
   ]
  },
  {
   "cell_type": "code",
   "execution_count": 35,
   "metadata": {},
   "outputs": [
    {
     "name": "stdout",
     "output_type": "stream",
     "text": [
      "                                 names  release_year maturity_rating duration   \n",
      "6                            Double XL          2022        U/A 13+     2h 5m  \\\n",
      "81               The Croods: A New Age          2020         U/A 7+    1h 35m   \n",
      "86               Lyle, Lyle, Crocodile          2022         U/A 7+    1h 46m   \n",
      "96                Hotel Transylvania 2          2015         U/A 7+    1h 29m   \n",
      "100            Space Jam: A New Legacy          2021         U/A 7+    1h 55m   \n",
      "..                                 ...           ...             ...      ...   \n",
      "488  Charlie and the Chocolate Factory          2005         U/A 7+    1h 54m   \n",
      "508   Roald Dahl's Matilda The Musical          2022         U/A 7+    1h 56m   \n",
      "513              Johnny English Reborn          2011        U/A 13+    1h 41m   \n",
      "519                        The Witches          2020         U/A 7+    1h 44m   \n",
      "523                            Goodbye          2022        U/A 13+    2h 21m   \n",
      "\n",
      "                                           description   \n",
      "6    Relentlessly shamed for their weight, two wome...  \\\n",
      "81   While searching for a new home, the Croods dis...   \n",
      "86   Josh and his parents are shocked to find a sin...   \n",
      "96   After Mavis weds Jonathan and baby Dennis arri...   \n",
      "100  A legendary baller teams up with an iconic bun...   \n",
      "..                                                 ...   \n",
      "488  The eccentric Willy Wonka opens the doors of h...   \n",
      "508  An extraordinary girl with a sharp mind and a ...   \n",
      "513  Bumbling spy Johnny English sharpens his skill...   \n",
      "519  A boy and his grandmother encounter a coven of...   \n",
      "523  After a mother's sudden death, chaos and grief...   \n",
      "\n",
      "                                                 genre       mood   \n",
      "6    ['Hindi-Language Movies', 'Bollywood Movies', ...  Feel-Good  \\\n",
      "81   ['Family Features', 'US Movies', 'Children & F...  Feel-Good   \n",
      "86   ['Family Features', 'US Movies', 'Movies Based...  Feel-Good   \n",
      "96   ['Family Features', 'US Movies', 'Children & F...  Feel-Good   \n",
      "100  ['Family Features', 'US Movies', 'Children & F...  Feel-Good   \n",
      "..                                                 ...        ...   \n",
      "488  ['Family Features', 'US Movies', 'Movies Based...     Quirky   \n",
      "508  ['Family Features', 'US Movies', 'Movies Based...     Quirky   \n",
      "513  ['Spy Movies', 'Family Features', 'Action & Ad...     Quirky   \n",
      "519  ['Family Features', 'US Movies', 'Movies Based...     Quirky   \n",
      "523  ['Hindi-Language Movies', 'Bollywood Movies', ...     Quirky   \n",
      "\n",
      "                                                  cast   \n",
      "6    ['Sonakshi Sinha', 'Huma Qureshi', 'Zaheer Iqb...  \\\n",
      "81   ['Nicolas Cage', 'Emma Stone', 'Ryan Reynolds'...   \n",
      "86   ['Javier Bardem', 'Constance Wu', 'Shawn Mende...   \n",
      "96   ['Adam Sandler', 'Andy Samberg', 'Selena Gomez...   \n",
      "100  ['LeBron James', 'Don Cheadle', 'Khris Davis',...   \n",
      "..                                                 ...   \n",
      "488  ['Johnny Depp', 'Freddie Highmore', 'David Kel...   \n",
      "508  ['Alisha Weir', 'Emma Thompson', 'Lashana Lync...   \n",
      "513  ['Rowan Atkinson', 'Dominic West', 'Gillian An...   \n",
      "519  ['Anne Hathaway', 'Octavia Spencer', 'Stanley ...   \n",
      "523  ['Amitabh Bachchan', 'Rashmika Mandanna', 'Nee...   \n",
      "\n",
      "                             subtitles   \n",
      "6                ['English,', 'Hindi']  \\\n",
      "81               ['English,', 'Hindi']   \n",
      "86               ['English,', 'Hindi']   \n",
      "96   ['English,', 'English,', 'Hindi']   \n",
      "100                        ['English']   \n",
      "..                                 ...   \n",
      "488                        ['English']   \n",
      "508              ['English,', 'Hindi']   \n",
      "513              ['English,', 'Hindi']   \n",
      "519                        ['English']   \n",
      "523              ['English,', 'Hindi']   \n",
      "\n",
      "                                                 audio  \n",
      "6                                 ['Hindi [Original]']  \n",
      "81   ['English - Audio Description,', 'English [Ori...  \n",
      "86   ['English - Audio Description,', 'English [Ori...  \n",
      "96   ['English - Audio Description,', 'English [Ori...  \n",
      "100                   ['English [Original],', 'Hindi']  \n",
      "..                                                 ...  \n",
      "488                   ['English [Original],', 'Hindi']  \n",
      "508  ['English - Audio Description,', 'English [Ori...  \n",
      "513  ['English - Audio Description,', 'English [Ori...  \n",
      "519                             ['English [Original]']  \n",
      "523                               ['Hindi [Original]']  \n",
      "\n",
      "[63 rows x 10 columns]\n"
     ]
    }
   ],
   "source": [
    "mood_filtered_movies = pd.DataFrame()\n",
    "for mood in moods_for_emotion:\n",
    "    mood_filtered_movies = pd.concat([mood_filtered_movies, movie_data[movie_data['mood'].str.lower() == mood.lower()]])\n",
    "print(mood_filtered_movies)"
   ]
  },
  {
   "cell_type": "code",
   "execution_count": 31,
   "metadata": {},
   "outputs": [],
   "source": [
    "def recommend_movie(emotion, movie_data):\n",
    " \n",
    "       \n",
    "        \n",
    "        # Get the corresponding moods for the given emotion\n",
    "        moods_for_emotion = limited_emotions_to_moods.get(emotion.lower(), [])\n",
    "    \n",
    "        \n",
    "        # Print unique moods present in the dataset\n",
    "        unique_moods_in_dataset = movie_data['mood'].str.lower().unique()\n",
    "\n",
    "        \n",
    "        # Filter movies based on moods\n",
    "        mood_filtered_movies = movie_data[movie_data['mood'].str.lower().isin(moods_for_emotion)]\n",
    "  \n",
    "        \n",
    "        # Sort movies by release year\n",
    "        mood_filtered_movies = mood_filtered_movies.sort_values(by='release_year', ascending=False)\n",
    "        \n",
    "        # Select specific columns for recommendation\n",
    "        recommended_movies = mood_filtered_movies[['names', 'duration', 'description', 'release_year']]\n",
    "        \n",
    "        # Convert DataFrame to list of dictionaries\n",
    "        recommended_movies_list = recommended_movies.to_dict(orient='records')\n",
    "        \n",
    "        return recommended_movies_list[:5]  # Return only the first 5 recommended movies\n",
    "  \n",
    "\n",
    "    \n"
   ]
  },
  {
   "cell_type": "code",
   "execution_count": 32,
   "metadata": {},
   "outputs": [
    {
     "name": "stdout",
     "output_type": "stream",
     "text": [
      "[]\n"
     ]
    }
   ],
   "source": [
    "recommended = recommend_movie(\"happy\", movie_data)\n",
    "print(recommended)"
   ]
  },
  {
   "cell_type": "code",
   "execution_count": null,
   "metadata": {},
   "outputs": [],
   "source": []
  }
 ],
 "metadata": {
  "kernelspec": {
   "display_name": "Python 3.10.10 ('tensorflow')",
   "language": "python",
   "name": "python3"
  },
  "language_info": {
   "codemirror_mode": {
    "name": "ipython",
    "version": 3
   },
   "file_extension": ".py",
   "mimetype": "text/x-python",
   "name": "python",
   "nbconvert_exporter": "python",
   "pygments_lexer": "ipython3",
   "version": "3.10.10"
  },
  "orig_nbformat": 4,
  "vscode": {
   "interpreter": {
    "hash": "ea07143c5729e2baecc6dbca1cb5e11eeb0375ceac827630d260fb55789c0fd5"
   }
  }
 },
 "nbformat": 4,
 "nbformat_minor": 2
}
